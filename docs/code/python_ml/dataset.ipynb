{
 "cells": [
  {
   "cell_type": "markdown",
   "metadata": {},
   "source": [
    "# scikit-learn 데이터셋\n",
    "\n",
    "https://scikit-learn.org/stable/datasets/toy_dataset.html\n",
    "\n",
    "## 분류 (Classification)\n",
    "\n",
    "### Iris"
   ]
  },
  {
   "cell_type": "code",
   "execution_count": null,
   "metadata": {},
   "outputs": [],
   "source": [
    "import sklearn.datasets\n",
    "\n",
    "data, target = sklearn.datasets.load_iris(return_X_y=True, as_frame=True)\n",
    "data[\"target\"] = target\n",
    "print(data)"
   ]
  },
  {
   "cell_type": "markdown",
   "metadata": {},
   "source": [
    "### Breast cancer wisconsin dataset"
   ]
  },
  {
   "cell_type": "code",
   "execution_count": null,
   "metadata": {},
   "outputs": [],
   "source": [
    "import sklearn.datasets\n",
    "\n",
    "data, target = sklearn.datasets.load_breast_cancer(return_X_y=True, as_frame=True)\n",
    "data[\"target\"] = target\n",
    "print(data)"
   ]
  },
  {
   "cell_type": "markdown",
   "metadata": {},
   "source": [
    "### Titanic"
   ]
  },
  {
   "cell_type": "code",
   "execution_count": null,
   "metadata": {},
   "outputs": [],
   "source": [
    "from sklearn.datasets import fetch_openml\n",
    "\n",
    "data, target = fetch_openml(\"titanic\", return_X_y=True, as_frame=True, version=1)\n",
    "data.drop(['boat', 'body', 'home.dest'], axis=1, inplace=True)\n",
    "print(data)\n"
   ]
  },
  {
   "cell_type": "markdown",
   "metadata": {},
   "source": [
    "## 회귀 (Regression)\n",
    "\n",
    "### Auto-MPG"
   ]
  },
  {
   "cell_type": "code",
   "execution_count": null,
   "metadata": {},
   "outputs": [],
   "source": [
    "import pandas as pd\n",
    "\n",
    "url = 'https://archive.ics.uci.edu/ml/machine-learning-databases/auto-mpg/auto-mpg.data'\n",
    "mpg_df = pd.read_csv(url, delim_whitespace=True)\n",
    "mpg_df.columns = ['mpg', 'cylinders', 'displacement', 'horsepower', 'weight', 'acceleration', 'model_year', 'origin', 'car_name']\n",
    "\n",
    "mpg_df.horsepower = pd.to_numeric(mpg_df.horsepower, errors='coerce')\n",
    "mpg_df.car_name = mpg_df.car_name.astype('string')\n",
    "\n",
    "mpg_df = mpg_df[mpg_df.horsepower.notnull()]\n",
    "\n",
    "print(mpg_df)"
   ]
  },
  {
   "cell_type": "code",
   "execution_count": null,
   "metadata": {},
   "outputs": [],
   "source": [
    "from sklearn.datasets import fetch_openml\n",
    "import numpy as np\n",
    "\n",
    "mpg_data = fetch_openml(data_id=196)\n",
    "\n",
    "mpg_X = mpg_data[\"data\"]\n",
    "mpg_y = mpg_data[\"target\"]\n",
    "\n",
    "not_null_sel = np.where(mpg_X.isna().sum(axis=1).values == 0)\n",
    "mpg_X = mpg_X.values[not_null_sel]\n",
    "mpg_y = mpg_y.values[not_null_sel]\n",
    "\n",
    "print(mpg_X)"
   ]
  },
  {
   "cell_type": "markdown",
   "metadata": {},
   "source": [
    "### California housing price"
   ]
  },
  {
   "cell_type": "code",
   "execution_count": null,
   "metadata": {
    "scrolled": true
   },
   "outputs": [],
   "source": [
    "from sklearn import datasets\n",
    "data, target = datasets.fetch_california_housing(return_X_y=True, as_frame=True)\n",
    "data[\"target\"] = target\n",
    "print(data)"
   ]
  }
 ],
 "metadata": {
  "kernelspec": {
   "display_name": "Python 3 (ipykernel)",
   "language": "python",
   "name": "python3"
  },
  "language_info": {
   "codemirror_mode": {
    "name": "ipython",
    "version": 3
   },
   "file_extension": ".py",
   "mimetype": "text/x-python",
   "name": "python",
   "nbconvert_exporter": "python",
   "pygments_lexer": "ipython3",
   "version": "3.9.12"
  },
  "vscode": {
   "interpreter": {
    "hash": "15d116a99bb54af1ff0aa2371fe08f9f0fc151477b85309a5584642f6865afea"
   }
  }
 },
 "nbformat": 4,
 "nbformat_minor": 2
}
