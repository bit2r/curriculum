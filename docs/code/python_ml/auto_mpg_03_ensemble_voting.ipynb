{
 "cells": [
  {
   "cell_type": "markdown",
   "metadata": {},
   "source": [
    "# 앙상블 모형 (투표, Voting) : 연비 예측\n",
    "\n",
    "홀수개 모형을 데이터에 적합시켜 좀더 똑똑한 기계학습 모형을 개발해보자\n",
    "\n",
    "- 선형회귀 모형\n",
    "- 의사결정 모형\n",
    "- SVM 모형\n",
    "\n",
    "## 환경설정"
   ]
  },
  {
   "cell_type": "code",
   "execution_count": 1,
   "metadata": {},
   "outputs": [],
   "source": [
    "import pandas as pd\n",
    "import numpy as np\n",
    "\n",
    "from sklearn.model_selection import train_test_split\n",
    "from sklearn.model_selection import cross_val_score\n",
    "from sklearn.metrics import mean_squared_error as MSE\n",
    "\n",
    "from sklearn.linear_model import LinearRegression\n",
    "from sklearn.tree import DecisionTreeRegressor\n",
    "from sklearn.svm import SVR\n",
    "\n",
    "from sklearn.ensemble import VotingRegressor"
   ]
  },
  {
   "cell_type": "markdown",
   "metadata": {},
   "source": [
    "## 데이터셋"
   ]
  },
  {
   "cell_type": "code",
   "execution_count": 2,
   "metadata": {},
   "outputs": [],
   "source": [
    "# 2. 데이터셋\n",
    "mpg_df = pd.read_csv('data/auto-mpg.csv', index_col='car name')\n",
    "mpg_df = mpg_df[mpg_df.horsepower != '?']\n",
    "\n",
    "# 3. 훈련/시험 데이터셋\n",
    "y = mpg_df[['mpg']]\n",
    "X = mpg_df.loc[:, 'cylinders':'origin']\n",
    "\n",
    "X_train, X_test, y_train, y_test = train_test_split(X, y, test_size=0.2, random_state = 777)\n",
    "y_train = np.ravel(y_train,order='C') "
   ]
  },
  {
   "cell_type": "markdown",
   "metadata": {},
   "source": [
    "## 기계학습 - 투표\n"
   ]
  },
  {
   "cell_type": "code",
   "execution_count": 3,
   "metadata": {},
   "outputs": [
    {
     "name": "stdout",
     "output_type": "stream",
     "text": [
      "Linear Regression : 11.435\n",
      "Decision Tree : 17.687\n",
      "SVM : 14.808\n"
     ]
    }
   ],
   "source": [
    "reg_lr = LinearRegression()\n",
    "reg_dt = DecisionTreeRegressor()\n",
    "reg_svm = SVR(kernel='rbf')\n",
    "    \n",
    "regressors = [('Linear Regression', reg_lr),\n",
    "               ('Decision Tree', reg_dt),\n",
    "               ('SVM', reg_svm)]\n",
    "\n",
    "for reg_name, reg in regressors:\n",
    "    # 모형적합\n",
    "    reg.fit(X_train, y_train)\n",
    "    # 시험데이터 예측\n",
    "    y_pred = reg.predict(X_test)\n",
    "    # 시험데이터 평가\n",
    "    print('{:s} : {:.3f}'.format(reg_name,\n",
    "                                 MSE(y_test, y_pred)))"
   ]
  },
  {
   "cell_type": "markdown",
   "metadata": {},
   "source": [
    "## 예측 성능"
   ]
  },
  {
   "cell_type": "code",
   "execution_count": 4,
   "metadata": {},
   "outputs": [
    {
     "name": "stdout",
     "output_type": "stream",
     "text": [
      "Voting Regression: 9.880\n"
     ]
    }
   ],
   "source": [
    "vote_reg = VotingRegressor(estimators = regressors)\n",
    "vote_reg.fit(X_train, y_train)\n",
    "y_pred =  vote_reg.predict(X_test)\n",
    "\n",
    "print('Voting Regression: {:.3f}'.format(MSE(y_test, y_pred)))"
   ]
  }
 ],
 "metadata": {
  "kernelspec": {
   "display_name": "Python 3 (ipykernel)",
   "language": "python",
   "name": "python3"
  },
  "language_info": {
   "codemirror_mode": {
    "name": "ipython",
    "version": 3
   },
   "file_extension": ".py",
   "mimetype": "text/x-python",
   "name": "python",
   "nbconvert_exporter": "python",
   "pygments_lexer": "ipython3",
   "version": "3.9.12"
  },
  "vscode": {
   "interpreter": {
    "hash": "15d116a99bb54af1ff0aa2371fe08f9f0fc151477b85309a5584642f6865afea"
   }
  }
 },
 "nbformat": 4,
 "nbformat_minor": 2
}
