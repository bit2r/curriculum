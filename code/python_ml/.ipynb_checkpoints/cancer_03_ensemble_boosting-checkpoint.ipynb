{
 "cells": [
  {
   "cell_type": "markdown",
   "metadata": {},
   "source": [
    "# 부스팅 모형 (Boost)\n",
    "\n",
    "- Weak Learner: 동전던지기 보다 조금 더 잘 예측하는 모형\n",
    "- Boosting: Weak Learner를 앙상블로 결합시켜 강한 예측 모형을 개발하는 방법론\n",
    "\n",
    "![](https://upload.wikimedia.org/wikipedia/commons/b/b5/Ensemble_Boosting.svg)\n",
    "\n",
    "- 부스팅 모형 진화\n",
    "  - Adaboost\n",
    "  - Gradient Boosting - Decision Tree\n",
    "  - Stochastic Gradient Boosting (SGB) - Random Forest\n",
    "  - xgBoost - Optimization\n",
    "\n",
    "## 환경설정"
   ]
  },
  {
   "cell_type": "code",
   "execution_count": 1,
   "metadata": {},
   "outputs": [],
   "source": [
    "import pandas as pd\n",
    "import numpy as np\n",
    "\n",
    "from sklearn import preprocessing # 전처리\n",
    "\n",
    "from sklearn.model_selection import train_test_split\n",
    "from sklearn.model_selection import cross_val_score\n",
    "from sklearn.metrics import accuracy_score, f1_score\n",
    "\n",
    "from sklearn.ensemble import GradientBoostingClassifier"
   ]
  },
  {
   "cell_type": "markdown",
   "metadata": {},
   "source": [
    "## 데이터셋"
   ]
  },
  {
   "cell_type": "code",
   "execution_count": 2,
   "metadata": {},
   "outputs": [],
   "source": [
    "cancer_df = pd.read_csv('data/breast_cancer.csv')\n",
    "\n",
    "# list(cancer_df.columns)\n",
    "y = cancer_df[['diagnosis']]\n",
    "X = cancer_df.loc[:, 'radius_mean':'fractal_dimension_worst']\n",
    "\n",
    "X_train, X_test, y_train, y_test = train_test_split(X, y, test_size=0.2, stratify=y, random_state=1)\n",
    "y_train = np.ravel(y_train, order='C') # KNN : A column-vector y was passed when a 1d array was expected"
   ]
  },
  {
   "cell_type": "markdown",
   "metadata": {},
   "source": [
    "## 기계학습\n",
    "\n",
    "### 1. Gradient Boosting"
   ]
  },
  {
   "cell_type": "code",
   "execution_count": 7,
   "metadata": {},
   "outputs": [
    {
     "data": {
      "text/plain": [
       "GradientBoostingClassifier(max_depth=1, random_state=777)"
      ]
     },
     "execution_count": 7,
     "metadata": {},
     "output_type": "execute_result"
    }
   ],
   "source": [
    "clf_sgb= GradientBoostingClassifier(n_estimators = 100,\n",
    "                                    max_depth    = 2,\n",
    "                                    subsample    = 0.8,\n",
    "                                    max_features = 0.5,\n",
    "                                    random_state = 777)\n",
    "\n",
    "clf_gb.fit(X_train, y_train)"
   ]
  },
  {
   "cell_type": "markdown",
   "metadata": {},
   "source": [
    "###  1. 예측 성능"
   ]
  },
  {
   "cell_type": "code",
   "execution_count": 8,
   "metadata": {
    "scrolled": true
   },
   "outputs": [
    {
     "name": "stdout",
     "output_type": "stream",
     "text": [
      "Train F1: 0.950\n"
     ]
    }
   ],
   "source": [
    "y_pred = clf_gb.predict(X_test)\n",
    "\n",
    "print('Train F1: {:.3f}'.format(f1_score(y_test, y_pred, pos_label = 'M')))"
   ]
  },
  {
   "cell_type": "markdown",
   "metadata": {},
   "source": [
    "### 2. Gradient Boosting"
   ]
  },
  {
   "cell_type": "code",
   "execution_count": 5,
   "metadata": {
    "scrolled": true
   },
   "outputs": [
    {
     "data": {
      "text/plain": [
       "GradientBoostingRegressor(max_depth=1, max_features=0.5, random_state=777,\n",
       "                          subsample=0.8)"
      ]
     },
     "execution_count": 5,
     "metadata": {},
     "output_type": "execute_result"
    }
   ],
   "source": [
    "clf_sgb = GradientBoostingRegressor(n_estimators = 100,\n",
    "                                    max_depth    = 1,\n",
    "                                    subsample    = 0.8,\n",
    "                                    max_features = 0.5,\n",
    "                                    random_state = 777)\n",
    "\n",
    "clf_sgb.fit(X_train, y_train)"
   ]
  },
  {
   "cell_type": "markdown",
   "metadata": {},
   "source": [
    "###  2. 예측 성능"
   ]
  },
  {
   "cell_type": "code",
   "execution_count": 6,
   "metadata": {
    "scrolled": true
   },
   "outputs": [
    {
     "name": "stdout",
     "output_type": "stream",
     "text": [
      "Train F1: 0.930\n"
     ]
    }
   ],
   "source": [
    "y_pred = clf_sgb.predict(X_test)\n",
    "preds_1d = y_pred.flatten() # 차원 펴주기\n",
    "\n",
    "pred_class = np.where(preds_1d > 0.2, 1 , 0)  #0.2보다크면 1, 작으면 0\n",
    "\n",
    "print('Train F1: {:.3f}'.format(f1_score(y_test, pred_class, average = 'micro')))"
   ]
  }
 ],
 "metadata": {
  "kernelspec": {
   "display_name": "Python 3 (ipykernel)",
   "language": "python",
   "name": "python3"
  },
  "language_info": {
   "codemirror_mode": {
    "name": "ipython",
    "version": 3
   },
   "file_extension": ".py",
   "mimetype": "text/x-python",
   "name": "python",
   "nbconvert_exporter": "python",
   "pygments_lexer": "ipython3",
   "version": "3.9.12"
  },
  "vscode": {
   "interpreter": {
    "hash": "15d116a99bb54af1ff0aa2371fe08f9f0fc151477b85309a5584642f6865afea"
   }
  }
 },
 "nbformat": 4,
 "nbformat_minor": 2
}
