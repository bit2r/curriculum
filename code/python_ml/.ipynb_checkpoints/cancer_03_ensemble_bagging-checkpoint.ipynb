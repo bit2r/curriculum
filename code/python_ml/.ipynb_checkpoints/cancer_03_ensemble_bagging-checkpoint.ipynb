{
 "cells": [
  {
   "cell_type": "markdown",
   "metadata": {},
   "source": [
    "# 앙상블 모형 (투표, Voting)\n",
    "\n",
    "홀수개 모형을 데이터에 적합시켜 좀더 똑똑한 기계학습 모형을 개발해보자\n",
    "\n",
    "- 로지스틱 모형\n",
    "- 의사결정 모형\n",
    "- KNN 모형\n",
    "\n",
    "## 환경설정"
   ]
  },
  {
   "cell_type": "code",
   "execution_count": 1,
   "metadata": {},
   "outputs": [],
   "source": [
    "import pandas as pd\n",
    "import numpy as np\n",
    "\n",
    "from sklearn.model_selection import train_test_split\n",
    "from sklearn.model_selection import cross_val_score\n",
    "from sklearn.metrics import accuracy_score, f1_score\n",
    "\n",
    "from sklearn.linear_model import LogisticRegression\n",
    "from sklearn.tree import DecisionTreeClassifier\n",
    "from sklearn.neighbors import KNeighborsClassifier as KNN\n",
    "\n",
    "from sklearn.ensemble import VotingClassifier"
   ]
  },
  {
   "cell_type": "markdown",
   "metadata": {},
   "source": [
    "## 데이터셋"
   ]
  },
  {
   "cell_type": "code",
   "execution_count": 2,
   "metadata": {},
   "outputs": [],
   "source": [
    "cancer_df = pd.read_csv('data/breast_cancer.csv')\n",
    "\n",
    "# list(cancer_df.columns)\n",
    "y = cancer_df[['diagnosis']]\n",
    "X = cancer_df.loc[:, 'radius_mean':'fractal_dimension_worst']\n",
    "\n",
    "X_train, X_test, y_train, y_test = train_test_split(X, y, test_size=0.2, stratify=y, random_state=1)\n",
    "y_train = np.ravel(y_train,order='C') # KNN : A column-vector y was passed when a 1d array was expected"
   ]
  },
  {
   "cell_type": "markdown",
   "metadata": {},
   "source": [
    "## 기계학습 - CV\n"
   ]
  },
  {
   "cell_type": "code",
   "execution_count": 3,
   "metadata": {},
   "outputs": [
    {
     "name": "stdout",
     "output_type": "stream",
     "text": [
      "Logistic Regression : 0.974\n",
      "K Nearest Neighbours : 0.921\n",
      "Classification Tree : 0.939\n"
     ]
    }
   ],
   "source": [
    "clf_lr = LogisticRegression(random_state = 777, solver='lbfgs', max_iter=1000)\n",
    "clf_knn = KNN()\n",
    "clf_dt = DecisionTreeClassifier(random_state = 777)\n",
    "    \n",
    "classifiers = [('Logistic Regression', clf_lr),\n",
    "               ('K Nearest Neighbours', clf_knn),\n",
    "               ('Classification Tree', clf_dt)]\n",
    "\n",
    "for clf_name, clf in classifiers:\n",
    "    # 모형적합\n",
    "    clf.fit(X_train, y_train)\n",
    "    # 시험데이터 예측\n",
    "    y_pred = clf.predict(X_test)\n",
    "    # 시험데이터 평가\n",
    "    print('{:s} : {:.3f}'.format(clf_name,\n",
    "                                 accuracy_score(y_test, y_pred)))"
   ]
  },
  {
   "cell_type": "markdown",
   "metadata": {},
   "source": [
    "## 예측 성능"
   ]
  },
  {
   "cell_type": "code",
   "execution_count": 4,
   "metadata": {},
   "outputs": [
    {
     "name": "stdout",
     "output_type": "stream",
     "text": [
      "Voting Classifier: 0.964\n"
     ]
    }
   ],
   "source": [
    "vote_clf = VotingClassifier(estimators=classifiers)\n",
    "vote_clf.fit(X_train, y_train)\n",
    "y_pred_array = vote_clf.predict(X_test)\n",
    "y_pred = pd.DataFrame(y_pred_array, columns = ['diagnosis']) # Arrary to Dataframe\n",
    "\n",
    "print('Voting Classifier: {:.3f}'.format(f1_score(y_test, y_pred,  pos_label=\"M\")))"
   ]
  },
  {
   "cell_type": "code",
   "execution_count": 5,
   "metadata": {},
   "outputs": [
    {
     "data": {
      "text/html": [
       "<div>\n",
       "<style scoped>\n",
       "    .dataframe tbody tr th:only-of-type {\n",
       "        vertical-align: middle;\n",
       "    }\n",
       "\n",
       "    .dataframe tbody tr th {\n",
       "        vertical-align: top;\n",
       "    }\n",
       "\n",
       "    .dataframe thead th {\n",
       "        text-align: right;\n",
       "    }\n",
       "</style>\n",
       "<table border=\"1\" class=\"dataframe\">\n",
       "  <thead>\n",
       "    <tr style=\"text-align: right;\">\n",
       "      <th></th>\n",
       "      <th>diagnosis</th>\n",
       "      <th>diagnosis</th>\n",
       "    </tr>\n",
       "  </thead>\n",
       "  <tbody>\n",
       "    <tr>\n",
       "      <th>0</th>\n",
       "      <td>M</td>\n",
       "      <td>M</td>\n",
       "    </tr>\n",
       "    <tr>\n",
       "      <th>1</th>\n",
       "      <td>B</td>\n",
       "      <td>B</td>\n",
       "    </tr>\n",
       "    <tr>\n",
       "      <th>2</th>\n",
       "      <td>B</td>\n",
       "      <td>B</td>\n",
       "    </tr>\n",
       "    <tr>\n",
       "      <th>3</th>\n",
       "      <td>M</td>\n",
       "      <td>M</td>\n",
       "    </tr>\n",
       "    <tr>\n",
       "      <th>4</th>\n",
       "      <td>B</td>\n",
       "      <td>B</td>\n",
       "    </tr>\n",
       "    <tr>\n",
       "      <th>...</th>\n",
       "      <td>...</td>\n",
       "      <td>...</td>\n",
       "    </tr>\n",
       "    <tr>\n",
       "      <th>109</th>\n",
       "      <td>B</td>\n",
       "      <td>B</td>\n",
       "    </tr>\n",
       "    <tr>\n",
       "      <th>110</th>\n",
       "      <td>B</td>\n",
       "      <td>B</td>\n",
       "    </tr>\n",
       "    <tr>\n",
       "      <th>111</th>\n",
       "      <td>B</td>\n",
       "      <td>B</td>\n",
       "    </tr>\n",
       "    <tr>\n",
       "      <th>112</th>\n",
       "      <td>B</td>\n",
       "      <td>B</td>\n",
       "    </tr>\n",
       "    <tr>\n",
       "      <th>113</th>\n",
       "      <td>M</td>\n",
       "      <td>M</td>\n",
       "    </tr>\n",
       "  </tbody>\n",
       "</table>\n",
       "<p>114 rows × 2 columns</p>\n",
       "</div>"
      ],
      "text/plain": [
       "    diagnosis diagnosis\n",
       "0           M         M\n",
       "1           B         B\n",
       "2           B         B\n",
       "3           M         M\n",
       "4           B         B\n",
       "..        ...       ...\n",
       "109         B         B\n",
       "110         B         B\n",
       "111         B         B\n",
       "112         B         B\n",
       "113         M         M\n",
       "\n",
       "[114 rows x 2 columns]"
      ]
     },
     "execution_count": 5,
     "metadata": {},
     "output_type": "execute_result"
    }
   ],
   "source": [
    "y_test.reset_index(drop=True, inplace=True)\n",
    "y_pred.reset_index(drop=True, inplace=True)\n",
    "\n",
    "pd.concat([y_test, y_pred], axis = 1)"
   ]
  }
 ],
 "metadata": {
  "kernelspec": {
   "display_name": "Python 3 (ipykernel)",
   "language": "python",
   "name": "python3"
  },
  "language_info": {
   "codemirror_mode": {
    "name": "ipython",
    "version": 3
   },
   "file_extension": ".py",
   "mimetype": "text/x-python",
   "name": "python",
   "nbconvert_exporter": "python",
   "pygments_lexer": "ipython3",
   "version": "3.9.12"
  },
  "vscode": {
   "interpreter": {
    "hash": "15d116a99bb54af1ff0aa2371fe08f9f0fc151477b85309a5584642f6865afea"
   }
  }
 },
 "nbformat": 4,
 "nbformat_minor": 2
}
