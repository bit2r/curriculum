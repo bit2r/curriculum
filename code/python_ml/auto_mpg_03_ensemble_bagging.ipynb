{
 "cells": [
  {
   "cell_type": "markdown",
   "metadata": {},
   "source": [
    "# 앙상블 모형 (배깅, Bagging)\n",
    "\n",
    "- Voting 과 Bagging 분류모형 비교\n",
    "  - Voting: 동일한 훈련 데이터, 다른 알고리즘\n",
    "  - Bagging: 다른 훈련 데이터, 한가지 알고리즘\n",
    "\n",
    "![](https://upload.wikimedia.org/wikipedia/commons/c/c8/Ensemble_Bagging.svg)\n",
    "\n",
    "## 환경설정"
   ]
  },
  {
   "cell_type": "code",
   "execution_count": 1,
   "metadata": {},
   "outputs": [],
   "source": [
    "import pandas as pd\n",
    "import numpy as np\n",
    "\n",
    "from sklearn.model_selection import train_test_split\n",
    "from sklearn.model_selection import cross_val_score\n",
    "from sklearn.metrics import mean_squared_error as MSE\n",
    "\n",
    "from sklearn.ensemble import BaggingRegressor\n",
    "from sklearn.tree import DecisionTreeRegressor"
   ]
  },
  {
   "cell_type": "markdown",
   "metadata": {},
   "source": [
    "## 데이터셋"
   ]
  },
  {
   "cell_type": "code",
   "execution_count": 2,
   "metadata": {},
   "outputs": [],
   "source": [
    "# 2. 데이터셋\n",
    "mpg_df = pd.read_csv('data/auto-mpg.csv', index_col='car name')\n",
    "mpg_df = mpg_df[mpg_df.horsepower != '?']\n",
    "\n",
    "# 3. 훈련/시험 데이터셋\n",
    "y = mpg_df[['mpg']]\n",
    "X = mpg_df.loc[:, 'cylinders':'origin']\n",
    "\n",
    "X_train, X_test, y_train, y_test = train_test_split(X, y, test_size=0.2, random_state = 777)\n",
    "y_train = np.ravel(y_train,order='C') "
   ]
  },
  {
   "cell_type": "markdown",
   "metadata": {},
   "source": [
    "## 기계학습 - CV\n"
   ]
  },
  {
   "cell_type": "code",
   "execution_count": 3,
   "metadata": {},
   "outputs": [
    {
     "data": {
      "text/plain": [
       "BaggingRegressor(base_estimator=DecisionTreeRegressor(max_depth=4,\n",
       "                                                      min_samples_leaf=0.1,\n",
       "                                                      random_state=777),\n",
       "                 n_estimators=300, n_jobs=-1, oob_score=True)"
      ]
     },
     "execution_count": 3,
     "metadata": {},
     "output_type": "execute_result"
    }
   ],
   "source": [
    "reg_base = DecisionTreeRegressor(max_depth=4, min_samples_leaf = 0.1, random_state = 777)\n",
    "\n",
    "reg_bagging = BaggingRegressor(base_estimator = reg_base, n_estimators = 300, oob_score=True, n_jobs=-1)\n",
    "\n",
    "reg_bagging.fit(X_train, y_train)"
   ]
  },
  {
   "cell_type": "markdown",
   "metadata": {},
   "source": [
    "## 예측 성능"
   ]
  },
  {
   "cell_type": "code",
   "execution_count": 4,
   "metadata": {},
   "outputs": [
    {
     "name": "stdout",
     "output_type": "stream",
     "text": [
      "Bagging Regressor: 14.013\n"
     ]
    }
   ],
   "source": [
    "y_pred = reg_bagging.predict(X_test)\n",
    "print('Bagging Regressor: {:.3f}'.format(MSE(y_test, y_pred)))"
   ]
  }
 ],
 "metadata": {
  "kernelspec": {
   "display_name": "Python 3 (ipykernel)",
   "language": "python",
   "name": "python3"
  },
  "language_info": {
   "codemirror_mode": {
    "name": "ipython",
    "version": 3
   },
   "file_extension": ".py",
   "mimetype": "text/x-python",
   "name": "python",
   "nbconvert_exporter": "python",
   "pygments_lexer": "ipython3",
   "version": "3.9.12"
  },
  "vscode": {
   "interpreter": {
    "hash": "15d116a99bb54af1ff0aa2371fe08f9f0fc151477b85309a5584642f6865afea"
   }
  }
 },
 "nbformat": 4,
 "nbformat_minor": 2
}
