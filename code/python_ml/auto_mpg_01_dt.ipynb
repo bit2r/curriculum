{
 "cells": [
  {
   "cell_type": "markdown",
   "metadata": {},
   "source": [
    "# 의사결정나무 모형\n",
    "\n",
    "## 자동차 연비예측"
   ]
  },
  {
   "cell_type": "code",
   "execution_count": 1,
   "metadata": {},
   "outputs": [
    {
     "name": "stdout",
     "output_type": "stream",
     "text": [
      " - RMSE: 4.44283979177936\n",
      " - MSE: 19.738825415418066\n",
      "\n"
     ]
    }
   ],
   "source": [
    "# 1. 환경설정\n",
    "from sklearn.tree import DecisionTreeRegressor\n",
    "from sklearn.model_selection import train_test_split\n",
    "from sklearn.metrics import mean_squared_error as MSE\n",
    "import pandas as pd\n",
    "from math import sqrt\n",
    "\n",
    "# 2. 데이터셋\n",
    "mpg_df = pd.read_csv('data/auto-mpg.csv', index_col='car name')\n",
    "mpg_df = mpg_df[mpg_df.horsepower != '?']\n",
    "\n",
    "# 3. 훈련/시험 데이터셋\n",
    "y = mpg_df[['mpg']]\n",
    "X = mpg_df.loc[:, 'cylinders':'origin']\n",
    "\n",
    "X_train, X_test, y_train, y_test = train_test_split(X, y, test_size=0.2, random_state = 777)\n",
    "\n",
    "# 4. 기계학습\n",
    "dt = DecisionTreeRegressor(max_depth        = 2, \n",
    "                           min_samples_leaf = 0.1,\n",
    "                           random_state     = 777)\n",
    "\n",
    "dt.fit(X_train, y_train)\n",
    "\n",
    "# 5. 연비 예측\n",
    "y_pred = dt.predict(X_test)\n",
    "MSE = MSE(y_test, y_pred)\n",
    "RMSE = sqrt(MSE)\n",
    "\n",
    "print(f\" - RMSE: {RMSE}\\n - MSE: {MSE}\\n\")"
   ]
  }
 ],
 "metadata": {
  "kernelspec": {
   "display_name": "Python 3 (ipykernel)",
   "language": "python",
   "name": "python3"
  },
  "language_info": {
   "codemirror_mode": {
    "name": "ipython",
    "version": 3
   },
   "file_extension": ".py",
   "mimetype": "text/x-python",
   "name": "python",
   "nbconvert_exporter": "python",
   "pygments_lexer": "ipython3",
   "version": "3.9.12"
  },
  "vscode": {
   "interpreter": {
    "hash": "15d116a99bb54af1ff0aa2371fe08f9f0fc151477b85309a5584642f6865afea"
   }
  }
 },
 "nbformat": 4,
 "nbformat_minor": 2
}
