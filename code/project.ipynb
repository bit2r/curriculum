{
 "cells": [
  {
   "cell_type": "markdown",
   "id": "df6bab8d",
   "metadata": {},
   "source": [
    "# 프로젝트 개요서 작성\n",
    "\n",
    "# 제목\n",
    "\n",
    "# 목적\n",
    "\n",
    "# 데이터\n",
    "\n",
    "# 방법론\n",
    "\n",
    "# 가설...\n",
    "\n",
    "# 실험/분석 결과\n",
    "\n",
    "# 결론\n",
    "\n",
    "# 향후 계획\n"
   ]
  }
 ],
 "metadata": {
  "kernelspec": {
   "display_name": "Python 3 (ipykernel)",
   "language": "python",
   "name": "python3"
  },
  "language_info": {
   "codemirror_mode": {
    "name": "ipython",
    "version": 3
   },
   "file_extension": ".py",
   "mimetype": "text/x-python",
   "name": "python",
   "nbconvert_exporter": "python",
   "pygments_lexer": "ipython3",
   "version": "3.10.9"
  }
 },
 "nbformat": 4,
 "nbformat_minor": 5
}
