{
 "cells": [
  {
   "cell_type": "markdown",
   "id": "93976ba0",
   "metadata": {},
   "source": [
    "# 헬로월드 파이썬"
   ]
  },
  {
   "cell_type": "markdown",
   "id": "832c390e",
   "metadata": {},
   "source": [
    "## 데이터와 시각화"
   ]
  },
  {
   "cell_type": "code",
   "execution_count": 1,
   "id": "9c171451",
   "metadata": {},
   "outputs": [
    {
     "name": "stdout",
     "output_type": "stream",
     "text": [
      "Dog\n",
      "Cat\n"
     ]
    },
    {
     "data": {
      "image/png": "[encoded data removed]",
      "text/plain": [
       "<Figure size 432x288 with 1 Axes>"
      ]
     },
     "metadata": {
      "needs_background": "light"
     },
     "output_type": "display_data"
    }
   ],
   "source": [
    "training_set = {'Dog':[[1,2],[2,3],[3,1]], 'Cat':[[11,20],[14,15],[12,15]]}\n",
    "testing_set = [15,20]\n",
    "\n",
    "#ploting all data\n",
    "import matplotlib.pyplot as plt\n",
    "c = 'x'\n",
    "for data in training_set:\n",
    "\tprint(data)\n",
    "\t\n",
    "\t#print(training_set[data])\n",
    "\tfor i in training_set[data]:\n",
    "\t\tplt.plot(i[0], i[1], c, color='c')\n",
    "\t\n",
    "\tc = 'o'\n",
    "plt.show()"
   ]
  },
  {
   "cell_type": "markdown",
   "id": "a4b4855a",
   "metadata": {},
   "source": [
    "## 기계학습"
   ]
  },
  {
   "cell_type": "code",
   "execution_count": 2,
   "id": "29a87764",
   "metadata": {},
   "outputs": [
    {
     "data": {
      "text/plain": [
       "KNeighborsClassifier()"
      ]
     },
     "execution_count": 2,
     "metadata": {},
     "output_type": "execute_result"
    }
   ],
   "source": [
    "# 기계학습모형 데이터셋 준비\n",
    "x = []\n",
    "y = []\n",
    "for group in training_set:\n",
    "\t\n",
    "\tfor features in training_set[group]:\n",
    "\t\tx.append(features)\n",
    "\t\ty.append(group)\n",
    "\n",
    "# 기계학습모형 특정\n",
    "from sklearn import preprocessing, neighbors\n",
    "\n",
    "# 데이터에 모형 적합\n",
    "clf = neighbors.KNeighborsClassifier()\n",
    "clf.fit(x, y)\n"
   ]
  },
  {
   "cell_type": "markdown",
   "id": "32727c95",
   "metadata": {},
   "source": [
    "## 모형성능"
   ]
  },
  {
   "cell_type": "code",
   "execution_count": 3,
   "id": "dfbd5a7d",
   "metadata": {},
   "outputs": [
    {
     "name": "stdout",
     "output_type": "stream",
     "text": [
      "모형 정확도   : 1.000\n"
     ]
    }
   ],
   "source": [
    "# 예측모형 성능 평가\n",
    "from sklearn.metrics import accuracy_score\n",
    "import pandas as pd\n",
    "\n",
    "dog_df = pd.DataFrame.from_dict(training_set['Dog'])\n",
    "dog_df['Y'] = \"Dog\"\n",
    "\n",
    "cat_df = pd.DataFrame.from_dict(training_set['Cat'])\n",
    "cat_df['Y'] = \"Cat\"\n",
    "\n",
    "trainging_df = pd.concat([dog_df, cat_df])\n",
    "\n",
    "feature_df = trainging_df.drop(['Y'], axis=1)\n",
    "label_df = trainging_df['Y']\n",
    "\n",
    "Y_preds = clf.predict(feature_df)\n",
    "\n",
    "print('모형 정확도   : {:.3f}'.format(accuracy_score(label_df, Y_preds)))"
   ]
  },
  {
   "cell_type": "markdown",
   "id": "223bde8b",
   "metadata": {},
   "source": [
    "## 모형예측"
   ]
  },
  {
   "cell_type": "code",
   "execution_count": 4,
   "id": "432fdecd",
   "metadata": {},
   "outputs": [
    {
     "name": "stdout",
     "output_type": "stream",
     "text": [
      "['Cat']\n"
     ]
    }
   ],
   "source": [
    "# 분류모형 예측\n",
    "import numpy as np\n",
    "testing_set = np.array(testing_set)\n",
    "testing_set = testing_set.reshape(1,-1)\n",
    "\n",
    "# 예측\n",
    "prediction = clf.predict(testing_set)\n",
    "print(prediction)"
   ]
  }
 ],
 "metadata": {
  "kernelspec": {
   "display_name": "Python 3 (ipykernel)",
   "language": "python",
   "name": "python3"
  },
  "language_info": {
   "codemirror_mode": {
    "name": "ipython",
    "version": 3
   },
   "file_extension": ".py",
   "mimetype": "text/x-python",
   "name": "python",
   "nbconvert_exporter": "python",
   "pygments_lexer": "ipython3",
   "version": "3.9.12"
  }
 },
 "nbformat": 4,
 "nbformat_minor": 5
}
